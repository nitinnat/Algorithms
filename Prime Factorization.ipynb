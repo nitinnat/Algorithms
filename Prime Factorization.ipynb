{
 "cells": [
  {
   "cell_type": "code",
   "execution_count": 28,
   "metadata": {},
   "outputs": [
    {
     "name": "stdout",
     "output_type": "stream",
     "text": [
      "99998\n"
     ]
    },
    {
     "data": {
      "text/plain": [
       "[<matplotlib.lines.Line2D at 0x7fd402adf910>]"
      ]
     },
     "execution_count": 28,
     "metadata": {},
     "output_type": "execute_result"
    },
    {
     "data": {
      "image/png": "[encoded data removed]",
      "text/plain": [
       "<matplotlib.figure.Figure at 0x7fd402adfed0>"
      ]
     },
     "metadata": {},
     "output_type": "display_data"
    }
   ],
   "source": [
    "#Prime factorization\n",
    "import matplotlib.pyplot as plt\n",
    "%matplotlib inline\n",
    "\n",
    "count = 0\n",
    "#Starting from sqrt(n), divide n by this number d. If n%d is zero, then you stop this iteration, and go on to the next one.\n",
    "n = 1117\n",
    "\n",
    "def findfactor(n):\n",
    "    global count\n",
    "    if n%2 == 0:\n",
    "        count += 1\n",
    "        #print \"2 is a factor\"\n",
    "        return 2\n",
    "    else:\n",
    "        #print int(round(pow(n,0.5))) +1\n",
    "        for i in range(3,int(round(pow(n,0.5))),2):\n",
    "            count += 1\n",
    "            #print \"Dividing by %d\" %(i)\n",
    "            if n%i == 0:\n",
    "                #print \"%d is a factor\" %(i)\n",
    "                return i\n",
    "    return n\n",
    "def factorize(n):\n",
    "    factors = []\n",
    "    while n > 1:\n",
    "        global count\n",
    "        #print \"Finding factor for %d\" %(n)\n",
    "        fac = findfactor(n)\n",
    "        factors.append(fac)\n",
    "        n = n/fac\n",
    "        count += 1\n",
    "    #print(factors) \n",
    "    #print \"%d steps taken\" %(count)\n",
    "    temp = count\n",
    "    count = 0\n",
    "    return temp\n",
    "    \n",
    "\n",
    "x = range(2,100000)\n",
    "print(len(x))\n",
    "y = [factorize(i) for i in x]\n",
    "plt.plot(x,y)\n",
    "#findfactor(117)\n"
   ]
  }
 ],
 "metadata": {
  "kernelspec": {
   "display_name": "Python [conda env:tensorflow]",
   "language": "python",
   "name": "conda-env-tensorflow-py"
  },
  "language_info": {
   "codemirror_mode": {
    "name": "ipython",
    "version": 2
   },
   "file_extension": ".py",
   "mimetype": "text/x-python",
   "name": "python",
   "nbconvert_exporter": "python",
   "pygments_lexer": "ipython2",
   "version": "2.7.13"
  }
 },
 "nbformat": 4,
 "nbformat_minor": 2
}
